{
 "cells": [
  {
   "cell_type": "code",
   "execution_count": 1,
   "metadata": {},
   "outputs": [],
   "source": [
    "import random\n",
    "from IPython.display import clear_output"
   ]
  },
  {
   "cell_type": "code",
   "execution_count": 2,
   "metadata": {},
   "outputs": [],
   "source": [
    "global playing"
   ]
  },
  {
   "cell_type": "code",
   "execution_count": 3,
   "metadata": {},
   "outputs": [],
   "source": [
    "def play():\n",
    "    while True:\n",
    "        try:\n",
    "            plays = input('Ready to play?(y/n) ').lower()\n",
    "        except:\n",
    "            print('Input only yes or no(y/n)')\n",
    "        else:\n",
    "            if plays[0] == 'y':\n",
    "                return True\n",
    "            elif plays[0] == 'n':\n",
    "                return False\n",
    "            else:\n",
    "                print('Input only yes or no(y/n)')\n",
    "                continue\n",
    "\n",
    "            "
   ]
  },
  {
   "cell_type": "code",
   "execution_count": 4,
   "metadata": {},
   "outputs": [],
   "source": [
    "def randoms():\n",
    "    return random.randint(1,6),random.randint(1,6)"
   ]
  },
  {
   "cell_type": "code",
   "execution_count": 5,
   "metadata": {},
   "outputs": [],
   "source": [
    "def play_again():\n",
    "\n",
    "    while True:\n",
    "        try:\n",
    "            plays = input('Play again?(y/n) ').lower()\n",
    "        except:\n",
    "            print('Input only yes or no(y/n)')\n",
    "        else:\n",
    "            if plays[0] == 'y':\n",
    "                return True\n",
    "            elif plays[0] == 'n':\n",
    "                return False\n",
    "            else:\n",
    "                print('Input only yes or no(y/n)')\n",
    "                continue\n"
   ]
  },
  {
   "cell_type": "code",
   "execution_count": null,
   "metadata": {},
   "outputs": [
    {
     "name": "stdout",
     "output_type": "stream",
     "text": [
      "Enter player1 name : rajesh\n",
      "Enter player2 name : jaya\n"
     ]
    }
   ],
   "source": [
    "pl1 = pl2 = tie = 0\n",
    "\n",
    "player1 = input('Enter player1 name : ').upper()\n",
    "player2 = input('Enter player2 name : ').upper()\n",
    "\n",
    "playing = play()\n",
    "\n",
    "while playing:\n",
    "    clear_output()\n",
    "    ply1,ply2 = randoms()\n",
    "    if ply1 > ply2:\n",
    "        pl1 += 1\n",
    "        print(f'{player1} wins!!!')\n",
    "    elif ply1 < ply2:\n",
    "        pl2 += 1\n",
    "        print(f'{player2} wins!!!')\n",
    "    else:\n",
    "        tie += 1\n",
    "        print(f'Match tied')\n",
    "        \n",
    "    print('\\nResult Summary')\n",
    "    print('------------------------------')\n",
    "    print('{:<10}{:^10}{:>10}'.format(player1,player2,'Tied'))\n",
    "    print('{:<10}{:^10}{:>10}'.format(pl1,pl2,tie))\n",
    "    print('------------------------------')\n",
    "    \n",
    "    if not play_again():\n",
    "        playing = False\n",
    "    \n",
    "clear_ouput()\n",
    "print(f'{player1} won many times') if pl1 > pl2 else print(f'{player2} won many times')\n"
   ]
  },
  {
   "cell_type": "code",
   "execution_count": null,
   "metadata": {},
   "outputs": [],
   "source": [
    "print('{:<8}{:>8}'.format('pl1','pl2'))"
   ]
  },
  {
   "cell_type": "code",
   "execution_count": null,
   "metadata": {},
   "outputs": [],
   "source": [
    "print('Result Summary')\n",
    "print('------------------------------')\n",
    "print('{:<10}{:^10}{:>10}'.format('player1','player2','tied'))\n",
    "print('{:<10}{:^10}{:>10}'.format(1,2,3))\n",
    "print('------------------------------')"
   ]
  },
  {
   "cell_type": "code",
   "execution_count": null,
   "metadata": {},
   "outputs": [],
   "source": []
  }
 ],
 "metadata": {
  "kernelspec": {
   "display_name": "Python 3",
   "language": "python",
   "name": "python3"
  },
  "language_info": {
   "codemirror_mode": {
    "name": "ipython",
    "version": 3
   },
   "file_extension": ".py",
   "mimetype": "text/x-python",
   "name": "python",
   "nbconvert_exporter": "python",
   "pygments_lexer": "ipython3",
   "version": "3.7.6"
  }
 },
 "nbformat": 4,
 "nbformat_minor": 4
}
